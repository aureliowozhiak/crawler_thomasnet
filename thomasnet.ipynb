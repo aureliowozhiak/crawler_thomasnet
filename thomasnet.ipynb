{
  "cells": [
    {
      "cell_type": "code",
      "execution_count": 1,
      "metadata": {},
      "outputs": [],
      "source": [
        "from thomasnet import Scraper\n",
        "scraper = Scraper()\n",
        "df = scraper.consolidating_data()"
      ]
    },
    {
      "cell_type": "code",
      "execution_count": 2,
      "metadata": {},
      "outputs": [
        {
          "data": {
            "text/html": [
              "<div>\n",
              "<style scoped>\n",
              "    .dataframe tbody tr th:only-of-type {\n",
              "        vertical-align: middle;\n",
              "    }\n",
              "\n",
              "    .dataframe tbody tr th {\n",
              "        vertical-align: top;\n",
              "    }\n",
              "\n",
              "    .dataframe thead th {\n",
              "        text-align: right;\n",
              "    }\n",
              "</style>\n",
              "<table border=\"1\" class=\"dataframe\">\n",
              "  <thead>\n",
              "    <tr style=\"text-align: right;\">\n",
              "      <th></th>\n",
              "      <th>name</th>\n",
              "      <th>address</th>\n",
              "      <th>website</th>\n",
              "      <th>thomasnet_company_url</th>\n",
              "      <th>business_description</th>\n",
              "      <th>phone_number</th>\n",
              "    </tr>\n",
              "  </thead>\n",
              "  <tbody>\n",
              "    <tr>\n",
              "      <th>0</th>\n",
              "      <td>ETA Lumis Foods</td>\n",
              "      <td>Bridgeton, NJ 08302</td>\n",
              "      <td>http://www.etalumisfoods.com</td>\n",
              "      <td>https://www.thomasnet.com/profile/30969719/eta...</td>\n",
              "      <td>Custom manufacturer of extruded plant-based fo...</td>\n",
              "      <td>516-316-6564</td>\n",
              "    </tr>\n",
              "    <tr>\n",
              "      <th>1</th>\n",
              "      <td>Superior Supplement Manufacturing</td>\n",
              "      <td>Fountain Valley, CA 92708</td>\n",
              "      <td>https://www.superiorsupplementmfg.com</td>\n",
              "      <td>https://www.thomasnet.com/profile/30831239/sup...</td>\n",
              "      <td>Manufacturer of standard and custom private la...</td>\n",
              "      <td>888-720-5580</td>\n",
              "    </tr>\n",
              "    <tr>\n",
              "      <th>2</th>\n",
              "      <td>Tru Body Wellness</td>\n",
              "      <td>Ottawa, IL 61350</td>\n",
              "      <td>https://www.trubodywellness.com/</td>\n",
              "      <td>https://www.thomasnet.com/profile/30841913/tru...</td>\n",
              "      <td>Private label manufacturer and custom formulat...</td>\n",
              "      <td>877-271-8728</td>\n",
              "    </tr>\n",
              "  </tbody>\n",
              "</table>\n",
              "</div>"
            ],
            "text/plain": [
              "                                  name                    address  \\\n",
              "0                    ETA Lumis Foods          Bridgeton, NJ 08302   \n",
              "1  Superior Supplement Manufacturing    Fountain Valley, CA 92708   \n",
              "2                  Tru Body Wellness             Ottawa, IL 61350   \n",
              "\n",
              "                                 website  \\\n",
              "0           http://www.etalumisfoods.com   \n",
              "1  https://www.superiorsupplementmfg.com   \n",
              "2       https://www.trubodywellness.com/   \n",
              "\n",
              "                               thomasnet_company_url  \\\n",
              "0  https://www.thomasnet.com/profile/30969719/eta...   \n",
              "1  https://www.thomasnet.com/profile/30831239/sup...   \n",
              "2  https://www.thomasnet.com/profile/30841913/tru...   \n",
              "\n",
              "                                business_description  phone_number  \n",
              "0  Custom manufacturer of extruded plant-based fo...  516-316-6564  \n",
              "1  Manufacturer of standard and custom private la...  888-720-5580  \n",
              "2  Private label manufacturer and custom formulat...  877-271-8728  "
            ]
          },
          "execution_count": 2,
          "metadata": {},
          "output_type": "execute_result"
        }
      ],
      "source": [
        "df.head(3)"
      ]
    },
    {
      "cell_type": "code",
      "execution_count": 5,
      "metadata": {
        "id": "jNzgmZ0vSBSh"
      },
      "outputs": [],
      "source": [
        "df.to_csv(\"data.csv\")"
      ]
    },
    {
      "cell_type": "code",
      "execution_count": null,
      "metadata": {},
      "outputs": [],
      "source": []
    }
  ],
  "metadata": {
    "colab": {
      "provenance": []
    },
    "kernelspec": {
      "display_name": "Python 3",
      "language": "python",
      "name": "python3"
    },
    "language_info": {
      "codemirror_mode": {
        "name": "ipython",
        "version": 3
      },
      "file_extension": ".py",
      "mimetype": "text/x-python",
      "name": "python",
      "nbconvert_exporter": "python",
      "pygments_lexer": "ipython3",
      "version": "3.7.9 (tags/v3.7.9:13c94747c7, Aug 17 2020, 16:30:00) [MSC v.1900 64 bit (AMD64)]"
    },
    "vscode": {
      "interpreter": {
        "hash": "786a1919b5bedd90bd750daa6dc2a54c55522146aee0643b5f1a90fd4789e85b"
      }
    }
  },
  "nbformat": 4,
  "nbformat_minor": 0
}
